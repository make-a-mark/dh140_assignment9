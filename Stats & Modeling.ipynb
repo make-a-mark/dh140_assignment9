{
 "cells": [
  {
   "cell_type": "markdown",
   "id": "7d8d897c-fe3f-4f33-b231-047b5eb3e865",
   "metadata": {},
   "source": [
    "### Step 2: Using the same Shakespeare play from your Week 6 Assignment:"
   ]
  },
  {
   "cell_type": "code",
   "execution_count": 1,
   "id": "c84ef70a-ad49-4b31-b660-6e1a2dd62669",
   "metadata": {},
   "outputs": [],
   "source": [
    "import requests\n",
    "from bs4 import BeautifulSoup"
   ]
  },
  {
   "cell_type": "code",
   "execution_count": 2,
   "id": "e1e41735-a6fd-4898-a00e-6a6cc591903b",
   "metadata": {},
   "outputs": [],
   "source": [
    "# response = requests.get('https://www.gutenberg.org/cache/epub/1513/pg1513.txt')\n",
    "response = requests.get('https://www.gutenberg.org/files/1513/1513-h/1513-h.htm')\n",
    "html_string = response.text\n",
    "document = BeautifulSoup(html_string, \"html.parser\")\n",
    "document = document.text\n",
    "for i in ['\\n','[',']','’','”','“', '\\r']:\n",
    "    document = document.replace(i,' ')"
   ]
  },
  {
   "cell_type": "markdown",
   "id": "c8659c1b-67c0-4b46-97b9-5bd13df24005",
   "metadata": {},
   "source": [
    "Tokenize the words, remove stopwords, stem or lemmatize the words, and calculate the word frequencies"
   ]
  },
  {
   "cell_type": "code",
   "execution_count": 3,
   "id": "13a7357f-83e0-44a7-87df-fe70e78b2689",
   "metadata": {},
   "outputs": [],
   "source": [
    "from nltk.tokenize import sent_tokenize, word_tokenize\n",
    "from nltk.corpus import stopwords\n",
    "from string import punctuation\n",
    "from nltk.probability import FreqDist"
   ]
  },
  {
   "cell_type": "code",
   "execution_count": 4,
   "id": "8dc424e8-c09f-4fac-bb9e-2c1ff208dcfb",
   "metadata": {},
   "outputs": [],
   "source": [
    "sentences = sent_tokenize(document)\n",
    "words = word_tokenize(document.lower())\n",
    "myStopWords = list(punctuation) + stopwords.words('english')\n",
    "wordsNoStopWords = [w for w in words if w not in myStopWords]\n",
    "freq = FreqDist(wordsNoStopWords)"
   ]
  },
  {
   "cell_type": "markdown",
   "id": "d254f854-ddce-4927-8b85-8b7f4cf74c26",
   "metadata": {},
   "source": [
    "For the word frequencies, calculate the mean, median, mode, and trimmed mean"
   ]
  },
  {
   "cell_type": "code",
   "execution_count": 5,
   "id": "68a71187-4fb9-4593-9bb6-d0d680ce6054",
   "metadata": {},
   "outputs": [],
   "source": [
    "import pandas as pd"
   ]
  },
  {
   "cell_type": "code",
   "execution_count": 21,
   "id": "da246098-963f-4bef-8de8-2cff3ae06754",
   "metadata": {},
   "outputs": [
    {
     "name": "stdout",
     "output_type": "stream",
     "text": [
      "mean =  4.043673571250312\n",
      "median =  1.0\n",
      "mode =  0    1\n",
      "dtype: int64\n"
     ]
    }
   ],
   "source": [
    "word = []\n",
    "freq_count = []\n",
    "\n",
    "for i in sorted(freq, key=freq.get, reverse=True):\n",
    "    word.append(i)\n",
    "    freq_count.append(freq[i])\n",
    "    \n",
    "word_frequency = pd.DataFrame({'word': word,\n",
    "              'frequency': freq_count},\n",
    "             columns = ['word', 'frequency'])\n",
    "\n",
    "print('mean = ', word_frequency['frequency'].mean())\n",
    "print('median = ', word_frequency['frequency'].median())\n",
    "print('mode = ', word_frequency['frequency'].mode())"
   ]
  },
  {
   "cell_type": "markdown",
   "id": "2166dacc-90ad-4363-9da8-02d1c19ebf7a",
   "metadata": {},
   "source": [
    "To get the trimmed mean, looked at where the frequency started showing 5, as words occuring 1, 2, 3, or 4 times aren't the most frequent and aren't as interesting and relevant I thought."
   ]
  },
  {
   "cell_type": "code",
   "execution_count": 40,
   "id": "cdc7b27f-fb23-4da2-9c83-93c0a37a819e",
   "metadata": {},
   "outputs": [
    {
     "name": "stdout",
     "output_type": "stream",
     "text": [
      "trimmed mean = frequency    19.81015\n",
      "dtype: float64\n"
     ]
    },
    {
     "name": "stderr",
     "output_type": "stream",
     "text": [
      "/tmp/ipykernel_55/2287826065.py:1: FutureWarning: Dropping of nuisance columns in DataFrame reductions (with 'numeric_only=None') is deprecated; in a future version this will raise TypeError.  Select only valid columns before calling the reduction.\n",
      "  print('trimmed mean =', word_frequency[word_frequency['frequency'] > 5].mean())\n"
     ]
    }
   ],
   "source": [
    "print('trimmed mean =', word_frequency[word_frequency['frequency'] > 5].mean())"
   ]
  },
  {
   "cell_type": "markdown",
   "id": "d9ed7eee-723e-4674-bbbf-285217946a02",
   "metadata": {},
   "source": [
    "Plot a histogram of the word frequency data and comment on the relative locations of the mean, median, mode, and trimmed mean"
   ]
  },
  {
   "cell_type": "code",
   "execution_count": 51,
   "id": "2c1d55c5-75fb-4de7-9861-5a3d8783d748",
   "metadata": {},
   "outputs": [
    {
     "data": {
      "text/plain": [
       "<AxesSubplot:ylabel='Frequency'>"
      ]
     },
     "execution_count": 51,
     "metadata": {},
     "output_type": "execute_result"
    },
    {
     "data": {
      "image/png": "[encoded data removed]",
      "text/plain": [
       "<Figure size 432x288 with 1 Axes>"
      ]
     },
     "metadata": {
      "needs_background": "light"
     },
     "output_type": "display_data"
    }
   ],
   "source": [
    "word_frequency.plot(kind='hist', xlim=(0,320))"
   ]
  },
  {
   "cell_type": "markdown",
   "id": "9f311e25-3cd4-4084-be95-c61fd4575da8",
   "metadata": {},
   "source": [
    "Skewed in the first 0-40 bins, but heavily by the first bit. So mean of 4, a median of 1, and a mode of 1 makes sense. For the trimmed mean, 19 feels more appropriate."
   ]
  },
  {
   "cell_type": "code",
   "execution_count": 48,
   "id": "173f9748-d188-4ff8-92e6-beb809dd4499",
   "metadata": {},
   "outputs": [
    {
     "data": {
      "text/plain": [
       "array([[<AxesSubplot:title={'center':'frequency'}>]], dtype=object)"
      ]
     },
     "execution_count": 48,
     "metadata": {},
     "output_type": "execute_result"
    },
    {
     "data": {
      "image/png": "[encoded data removed]",
      "text/plain": [
       "<Figure size 432x288 with 1 Axes>"
      ]
     },
     "metadata": {
      "needs_background": "light"
     },
     "output_type": "display_data"
    }
   ],
   "source": [
    "word_frequency[word_frequency['frequency'] > 5].hist()"
   ]
  },
  {
   "cell_type": "code",
   "execution_count": 56,
   "id": "72e021a0-5743-42ad-8075-391d7bfd2e9a",
   "metadata": {},
   "outputs": [
    {
     "name": "stdout",
     "output_type": "stream",
     "text": [
      "interquartile range = 2.0\n",
      "std = 12.033272199261077\n"
     ]
    }
   ],
   "source": [
    "print('interquartile range =', word_frequency['frequency'].quantile(0.75) - word_frequency['frequency'].quantile(0.25))\n",
    "print('std =', word_frequency['frequency'].std())"
   ]
  },
  {
   "cell_type": "markdown",
   "id": "2db815a0-0cf1-44c1-a662-232d93350d50",
   "metadata": {},
   "source": [
    "Comment as well on how they compare to each other and to the histogram plot."
   ]
  },
  {
   "cell_type": "markdown",
   "id": "3274da08-80bc-4045-bdea-c4045965fad4",
   "metadata": {},
   "source": [
    "Interquartile range is understandable since a large majority lies in the first couple bins, and the standard deviation makes sense as it is low and most of the values are closer together. However, the interquartile range and standard deviation differ in value a good amount."
   ]
  },
  {
   "cell_type": "markdown",
   "id": "3351c43c-d73b-4dcd-8009-59188d550deb",
   "metadata": {},
   "source": [
    "### Step 3: Foray into machine learning\n",
    "\n"
   ]
  },
  {
   "cell_type": "code",
   "execution_count": 57,
   "id": "f932c1ce-b54e-4e7d-9aab-ef3181781ccc",
   "metadata": {},
   "outputs": [],
   "source": [
    "from sklearn import datasets\n",
    "df = datasets.load_diabetes(as_frame=True) \n",
    "features_df = df.data\n",
    "target_df = df.target"
   ]
  },
  {
   "cell_type": "markdown",
   "id": "657a49b9-6453-4514-be9d-9f233ac57d38",
   "metadata": {},
   "source": [
    "Use the following code to view a description of the dataset:"
   ]
  },
  {
   "cell_type": "code",
   "execution_count": 59,
   "id": "48af2539-3fd9-407b-999a-0ce7a05eaee6",
   "metadata": {},
   "outputs": [
    {
     "name": "stdout",
     "output_type": "stream",
     "text": [
      ".. _diabetes_dataset:\n",
      "\n",
      "Diabetes dataset\n",
      "----------------\n",
      "\n",
      "Ten baseline variables, age, sex, body mass index, average blood\n",
      "pressure, and six blood serum measurements were obtained for each of n =\n",
      "442 diabetes patients, as well as the response of interest, a\n",
      "quantitative measure of disease progression one year after baseline.\n",
      "\n",
      "**Data Set Characteristics:**\n",
      "\n",
      "  :Number of Instances: 442\n",
      "\n",
      "  :Number of Attributes: First 10 columns are numeric predictive values\n",
      "\n",
      "  :Target: Column 11 is a quantitative measure of disease progression one year after baseline\n",
      "\n",
      "  :Attribute Information:\n",
      "      - age     age in years\n",
      "      - sex\n",
      "      - bmi     body mass index\n",
      "      - bp      average blood pressure\n",
      "      - s1      tc, total serum cholesterol\n",
      "      - s2      ldl, low-density lipoproteins\n",
      "      - s3      hdl, high-density lipoproteins\n",
      "      - s4      tch, total cholesterol / HDL\n",
      "      - s5      ltg, possibly log of serum triglycerides level\n",
      "      - s6      glu, blood sugar level\n",
      "\n",
      "Note: Each of these 10 feature variables have been mean centered and scaled by the standard deviation times `n_samples` (i.e. the sum of squares of each column totals 1).\n",
      "\n",
      "Source URL:\n",
      "https://www4.stat.ncsu.edu/~boos/var.select/diabetes.html\n",
      "\n",
      "For more information see:\n",
      "Bradley Efron, Trevor Hastie, Iain Johnstone and Robert Tibshirani (2004) \"Least Angle Regression,\" Annals of Statistics (with discussion), 407-499.\n",
      "(https://web.stanford.edu/~hastie/Papers/LARS/LeastAngle_2002.pdf)\n"
     ]
    }
   ],
   "source": [
    "print(df.DESCR)"
   ]
  },
  {
   "cell_type": "markdown",
   "id": "8f0cbbf8-7d77-4767-9024-b5cabd739319",
   "metadata": {},
   "source": [
    "Do some exploratory data analysis of the features, including getting summary statistical information"
   ]
  },
  {
   "cell_type": "code",
   "execution_count": 63,
   "id": "3778f5d0-bd5c-4fec-a1cd-56685f9e6298",
   "metadata": {},
   "outputs": [
    {
     "data": {
      "text/html": [
       "<div>\n",
       "<style scoped>\n",
       "    .dataframe tbody tr th:only-of-type {\n",
       "        vertical-align: middle;\n",
       "    }\n",
       "\n",
       "    .dataframe tbody tr th {\n",
       "        vertical-align: top;\n",
       "    }\n",
       "\n",
       "    .dataframe thead th {\n",
       "        text-align: right;\n",
       "    }\n",
       "</style>\n",
       "<table border=\"1\" class=\"dataframe\">\n",
       "  <thead>\n",
       "    <tr style=\"text-align: right;\">\n",
       "      <th></th>\n",
       "      <th>age</th>\n",
       "      <th>sex</th>\n",
       "      <th>bmi</th>\n",
       "      <th>bp</th>\n",
       "      <th>s1</th>\n",
       "      <th>s2</th>\n",
       "      <th>s3</th>\n",
       "      <th>s4</th>\n",
       "      <th>s5</th>\n",
       "      <th>s6</th>\n",
       "    </tr>\n",
       "  </thead>\n",
       "  <tbody>\n",
       "    <tr>\n",
       "      <th>count</th>\n",
       "      <td>442.00000</td>\n",
       "      <td>442.00000</td>\n",
       "      <td>442.00000</td>\n",
       "      <td>442.00000</td>\n",
       "      <td>442.00000</td>\n",
       "      <td>442.00000</td>\n",
       "      <td>442.00000</td>\n",
       "      <td>442.00000</td>\n",
       "      <td>442.00000</td>\n",
       "      <td>442.00000</td>\n",
       "    </tr>\n",
       "    <tr>\n",
       "      <th>mean</th>\n",
       "      <td>-0.00000</td>\n",
       "      <td>0.00000</td>\n",
       "      <td>-0.00000</td>\n",
       "      <td>0.00000</td>\n",
       "      <td>-0.00000</td>\n",
       "      <td>0.00000</td>\n",
       "      <td>-0.00000</td>\n",
       "      <td>0.00000</td>\n",
       "      <td>-0.00000</td>\n",
       "      <td>-0.00000</td>\n",
       "    </tr>\n",
       "    <tr>\n",
       "      <th>std</th>\n",
       "      <td>0.04762</td>\n",
       "      <td>0.04762</td>\n",
       "      <td>0.04762</td>\n",
       "      <td>0.04762</td>\n",
       "      <td>0.04762</td>\n",
       "      <td>0.04762</td>\n",
       "      <td>0.04762</td>\n",
       "      <td>0.04762</td>\n",
       "      <td>0.04762</td>\n",
       "      <td>0.04762</td>\n",
       "    </tr>\n",
       "    <tr>\n",
       "      <th>min</th>\n",
       "      <td>-0.10723</td>\n",
       "      <td>-0.04464</td>\n",
       "      <td>-0.09028</td>\n",
       "      <td>-0.11240</td>\n",
       "      <td>-0.12678</td>\n",
       "      <td>-0.11561</td>\n",
       "      <td>-0.10231</td>\n",
       "      <td>-0.07639</td>\n",
       "      <td>-0.12610</td>\n",
       "      <td>-0.13777</td>\n",
       "    </tr>\n",
       "    <tr>\n",
       "      <th>25%</th>\n",
       "      <td>-0.03730</td>\n",
       "      <td>-0.04464</td>\n",
       "      <td>-0.03423</td>\n",
       "      <td>-0.03666</td>\n",
       "      <td>-0.03425</td>\n",
       "      <td>-0.03036</td>\n",
       "      <td>-0.03512</td>\n",
       "      <td>-0.03949</td>\n",
       "      <td>-0.03325</td>\n",
       "      <td>-0.03318</td>\n",
       "    </tr>\n",
       "    <tr>\n",
       "      <th>50%</th>\n",
       "      <td>0.00538</td>\n",
       "      <td>-0.04464</td>\n",
       "      <td>-0.00728</td>\n",
       "      <td>-0.00567</td>\n",
       "      <td>-0.00432</td>\n",
       "      <td>-0.00382</td>\n",
       "      <td>-0.00658</td>\n",
       "      <td>-0.00259</td>\n",
       "      <td>-0.00195</td>\n",
       "      <td>-0.00108</td>\n",
       "    </tr>\n",
       "    <tr>\n",
       "      <th>75%</th>\n",
       "      <td>0.03808</td>\n",
       "      <td>0.05068</td>\n",
       "      <td>0.03125</td>\n",
       "      <td>0.03564</td>\n",
       "      <td>0.02836</td>\n",
       "      <td>0.02984</td>\n",
       "      <td>0.02931</td>\n",
       "      <td>0.03431</td>\n",
       "      <td>0.03243</td>\n",
       "      <td>0.02792</td>\n",
       "    </tr>\n",
       "    <tr>\n",
       "      <th>max</th>\n",
       "      <td>0.11073</td>\n",
       "      <td>0.05068</td>\n",
       "      <td>0.17056</td>\n",
       "      <td>0.13204</td>\n",
       "      <td>0.15391</td>\n",
       "      <td>0.19879</td>\n",
       "      <td>0.18118</td>\n",
       "      <td>0.18523</td>\n",
       "      <td>0.13360</td>\n",
       "      <td>0.13561</td>\n",
       "    </tr>\n",
       "  </tbody>\n",
       "</table>\n",
       "</div>"
      ],
      "text/plain": [
       "             age        sex        bmi         bp         s1         s2  \\\n",
       "count  442.00000  442.00000  442.00000  442.00000  442.00000  442.00000   \n",
       "mean    -0.00000    0.00000   -0.00000    0.00000   -0.00000    0.00000   \n",
       "std      0.04762    0.04762    0.04762    0.04762    0.04762    0.04762   \n",
       "min     -0.10723   -0.04464   -0.09028   -0.11240   -0.12678   -0.11561   \n",
       "25%     -0.03730   -0.04464   -0.03423   -0.03666   -0.03425   -0.03036   \n",
       "50%      0.00538   -0.04464   -0.00728   -0.00567   -0.00432   -0.00382   \n",
       "75%      0.03808    0.05068    0.03125    0.03564    0.02836    0.02984   \n",
       "max      0.11073    0.05068    0.17056    0.13204    0.15391    0.19879   \n",
       "\n",
       "              s3         s4         s5         s6  \n",
       "count  442.00000  442.00000  442.00000  442.00000  \n",
       "mean    -0.00000    0.00000   -0.00000   -0.00000  \n",
       "std      0.04762    0.04762    0.04762    0.04762  \n",
       "min     -0.10231   -0.07639   -0.12610   -0.13777  \n",
       "25%     -0.03512   -0.03949   -0.03325   -0.03318  \n",
       "50%     -0.00658   -0.00259   -0.00195   -0.00108  \n",
       "75%      0.02931    0.03431    0.03243    0.02792  \n",
       "max      0.18118    0.18523    0.13360    0.13561  "
      ]
     },
     "execution_count": 63,
     "metadata": {},
     "output_type": "execute_result"
    }
   ],
   "source": [
    "features_df.describe().round(5)"
   ]
  },
  {
   "cell_type": "markdown",
   "id": "749a0876-9cd5-4c3b-b83c-c471e3d37cf3",
   "metadata": {},
   "source": [
    "Find the column in features_df that has the highest correlation coefficient with the target values in target_df"
   ]
  },
  {
   "cell_type": "code",
   "execution_count": 69,
   "id": "014b3a87-a5b1-4ab7-a0a2-f0a043cfbc6c",
   "metadata": {},
   "outputs": [],
   "source": [
    "import numpy as np"
   ]
  },
  {
   "cell_type": "code",
   "execution_count": 77,
   "id": "409556dd-ec44-4a9e-b7f9-6b52475093b1",
   "metadata": {},
   "outputs": [
    {
     "name": "stdout",
     "output_type": "stream",
     "text": [
      "[0.18788875071891983, 0.0430619984516054, 0.5864501344746891, 0.4414838489308862, 0.2120224810145508, 0.17405358696874249, -0.39478925067091847, 0.4304528847447734, 0.5658834252428094, 0.3824834842485812]\n",
      "max correlation coefficient = bmi\n"
     ]
    }
   ],
   "source": [
    "columns = list(features_df.columns)\n",
    "correlations = []\n",
    "for column in columns:\n",
    "    corr = np.corrcoef(features_df[column],target_df)\n",
    "    correlations.append(corr[0,1])\n",
    "\n",
    "print(correlations)\n",
    "print('max correlation coefficient =', columns[correlations.index(max(correlations))])"
   ]
  },
  {
   "cell_type": "markdown",
   "id": "a1bb871f-0805-4b93-87da-1f20c8e4ce1c",
   "metadata": {},
   "source": [
    "Make a scatter plot of the target values vs this feature column's values and comment on how the plotted points match up with the correlation coefficient"
   ]
  },
  {
   "cell_type": "code",
   "execution_count": 80,
   "id": "07d55d74-c547-446e-81c6-ebccead14d80",
   "metadata": {},
   "outputs": [
    {
     "data": {
      "text/plain": [
       "<AxesSubplot:xlabel='features', ylabel='target'>"
      ]
     },
     "execution_count": 80,
     "metadata": {},
     "output_type": "execute_result"
    },
    {
     "data": {
      "image/png": "[encoded data removed]",
      "text/plain": [
       "<Figure size 432x288 with 1 Axes>"
      ]
     },
     "metadata": {
      "needs_background": "light"
     },
     "output_type": "display_data"
    }
   ],
   "source": [
    "features_target = pd.DataFrame({'features': features_df['bmi'],\n",
    "             'target': target_df},\n",
    "             columns = ['features', 'target'])\n",
    "\n",
    "features_target.plot(kind='scatter', x='features', y='target')\n"
   ]
  },
  {
   "cell_type": "markdown",
   "id": "fea0bf39-a525-4fa7-80ca-c335728ba058",
   "metadata": {},
   "source": [
    "Not fully correlated, but there is some trend of correlation as there aren't many outliers and can be fitted well with regression."
   ]
  },
  {
   "cell_type": "markdown",
   "id": "2dbef1bb-6f53-49d2-8267-d8ece9269d50",
   "metadata": {},
   "source": [
    "Using this feature and target, perform linear regression with sklearn's LinearRegression"
   ]
  },
  {
   "cell_type": "code",
   "execution_count": 83,
   "id": "560ec29b-3cff-4f44-96aa-80d90105d309",
   "metadata": {},
   "outputs": [],
   "source": [
    "import numpy as np\n",
    "import pandas as pd\n",
    "import matplotlib.pyplot as plt\n",
    "from sklearn.linear_model import LinearRegression\n",
    "from sklearn.metrics import mean_squared_error, r2_score"
   ]
  },
  {
   "cell_type": "code",
   "execution_count": 110,
   "id": "0ade14e7-c769-4725-8a21-4ce02d59b6e9",
   "metadata": {},
   "outputs": [],
   "source": [
    "x=features_df[['bmi']]\n",
    "y=target_df\n",
    "reg = LinearRegression().fit(x, target_df)"
   ]
  },
  {
   "cell_type": "markdown",
   "id": "0b1b2523-097f-4303-8282-46a21083baa4",
   "metadata": {},
   "source": [
    "Print the coefficients of the model"
   ]
  },
  {
   "cell_type": "code",
   "execution_count": 111,
   "id": "59b046e5-675c-4244-994a-df1380ccff15",
   "metadata": {},
   "outputs": [
    {
     "data": {
      "text/plain": [
       "array([949.43526038])"
      ]
     },
     "execution_count": 111,
     "metadata": {},
     "output_type": "execute_result"
    }
   ],
   "source": [
    "reg.coef_"
   ]
  },
  {
   "cell_type": "markdown",
   "id": "784ebec2-b39b-48e1-86d6-dfc9e998701c",
   "metadata": {},
   "source": [
    "Plot the linear fit on top of the scatter plot"
   ]
  },
  {
   "cell_type": "code",
   "execution_count": 114,
   "id": "671f1322-434b-4981-99ce-7e27dd101c6b",
   "metadata": {},
   "outputs": [
    {
     "data": {
      "image/png": "[encoded data removed]",
      "text/plain": [
       "<Figure size 432x288 with 1 Axes>"
      ]
     },
     "metadata": {
      "needs_background": "light"
     },
     "output_type": "display_data"
    }
   ],
   "source": [
    "reg.intercept_\n",
    "ytrain = reg.intercept_ + reg.coef_ * x\n",
    "plt.plot(x,y,'ro',x,ytrain,'b-');"
   ]
  },
  {
   "cell_type": "markdown",
   "id": "aa3b40d3-e3b3-4c0f-9d82-8cab42208ee5",
   "metadata": {},
   "source": [
    "Calculate (or output) the mean squared error and R-squared values for your fit"
   ]
  },
  {
   "cell_type": "code",
   "execution_count": 115,
   "id": "e461c29e-8492-41ea-a408-d14e3ce1b7f7",
   "metadata": {},
   "outputs": [
    {
     "name": "stdout",
     "output_type": "stream",
     "text": [
      "mean squared error = 3890.4565854612724\n",
      "r-squared value = 0.3439237602253803\n"
     ]
    }
   ],
   "source": [
    "print('mean squared error =', mean_squared_error(y, ytrain))\n",
    "print('r-squared value =', r2_score(y, ytrain))"
   ]
  },
  {
   "cell_type": "markdown",
   "id": "6ba8720c-dd14-4e86-972e-3877e4542d2c",
   "metadata": {},
   "source": [
    "Try doing linear regression with another variable and check how the new fit's mean squared error and R-squared values change."
   ]
  },
  {
   "cell_type": "code",
   "execution_count": 118,
   "id": "6af7b3fe-1ec3-4d50-9fd7-ca1151662d5f",
   "metadata": {},
   "outputs": [
    {
     "name": "stdout",
     "output_type": "stream",
     "text": [
      "min correlation coefficient = s3\n",
      "mean squared error = 5005.661620710653\n",
      "r-squared value = 0.1558585524453051\n"
     ]
    },
    {
     "data": {
      "image/png": "[encoded data removed]",
      "text/plain": [
       "<Figure size 432x288 with 1 Axes>"
      ]
     },
     "metadata": {
      "needs_background": "light"
     },
     "output_type": "display_data"
    }
   ],
   "source": [
    "print('min correlation coefficient =', columns[correlations.index(min(correlations))])\n",
    "x=features_df[['s3']]\n",
    "y=target_df\n",
    "reg = LinearRegression().fit(x, target_df)\n",
    "ytrain = reg.intercept_ + reg.coef_ * x\n",
    "plt.plot(x,y,'ro',x,ytrain,'b-');\n",
    "print('mean squared error =', mean_squared_error(y, ytrain))\n",
    "print('r-squared value =', r2_score(y, ytrain))"
   ]
  },
  {
   "cell_type": "markdown",
   "id": "e43285bd-09be-42ec-901d-084e003e7c8d",
   "metadata": {},
   "source": [
    "Mean squared error is higher and the r-squared value is less than half of the initial linear regression. Compared to the most positive correlation, the most negative correlation is not as strong, but there is still a relationship / trend."
   ]
  }
 ],
 "metadata": {
  "kernelspec": {
   "display_name": "Python 3 (ipykernel)",
   "language": "python",
   "name": "python3"
  },
  "language_info": {
   "codemirror_mode": {
    "name": "ipython",
    "version": 3
   },
   "file_extension": ".py",
   "mimetype": "text/x-python",
   "name": "python",
   "nbconvert_exporter": "python",
   "pygments_lexer": "ipython3",
   "version": "3.9.6"
  }
 },
 "nbformat": 4,
 "nbformat_minor": 5
}
